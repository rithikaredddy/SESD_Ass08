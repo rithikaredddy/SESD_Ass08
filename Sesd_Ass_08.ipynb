{
  "nbformat": 4,
  "nbformat_minor": 0,
  "metadata": {
    "colab": {
      "provenance": [],
      "authorship_tag": "ABX9TyPHw78IiLkefWv/gDg1rhS+",
      "include_colab_link": true
    },
    "kernelspec": {
      "name": "python3",
      "display_name": "Python 3"
    },
    "language_info": {
      "name": "python"
    }
  },
  "cells": [
    {
      "cell_type": "markdown",
      "metadata": {
        "id": "view-in-github",
        "colab_type": "text"
      },
      "source": [
        "<a href=\"https://colab.research.google.com/github/rithikaredddy/SESD_Ass08/blob/main/Sesd_Ass_08.ipynb\" target=\"_parent\"><img src=\"https://colab.research.google.com/assets/colab-badge.svg\" alt=\"Open In Colab\"/></a>"
      ]
    },
    {
      "cell_type": "code",
      "execution_count": 25,
      "metadata": {
        "colab": {
          "base_uri": "https://localhost:8080/"
        },
        "id": "O7Faya31uK9L",
        "outputId": "0c5348da-c081-4625-d98f-e731452437af"
      },
      "outputs": [
        {
          "output_type": "stream",
          "name": "stderr",
          "text": [
            "....\n",
            "----------------------------------------------------------------------\n",
            "Ran 4 tests in 0.004s\n",
            "\n",
            "OK\n"
          ]
        }
      ],
      "source": [
        "#Product: shopping Cart Management System\n",
        "#Course : Software engineer and system design\n",
        "#description : Implementation of e commerce cart module with add/remove products,dicount coupons,and total price calculation\n",
        "import unittest\n",
        "#Class to represent Product:\n",
        "class Product:\n",
        "    def __init__(self, product_id, name, price):\n",
        "        self.product_id = product_id\n",
        "        self.name = name\n",
        "        self.price = price\n",
        "\n",
        "#Class to repressent each item in the cart:\n",
        "class CartItem:\n",
        "    def __init__(self, product, quantity=1):\n",
        "        self.product = product\n",
        "        self.quantity = quantity\n",
        "\n",
        "    def get_total_price(self):\n",
        "        return self.product.price * self.quantity\n",
        "\n",
        "#Class to represent the shoppingCart:\n",
        "class ShoppingCart:\n",
        "    def __init__(self):\n",
        "        self.items = []\n",
        "        self.discount = 0.0\n",
        "\n",
        "    def add_product(self, product, quantity=1):\n",
        "        for item in self.items:\n",
        "            if item.product.product_id == product.product_id:\n",
        "                item.quantity += quantity\n",
        "                return\n",
        "        self.items.append(CartItem(product, quantity))\n",
        "\n",
        "    def remove_product(self, product_id):\n",
        "        self.items = [item for item in self.items if item.product.product_id != product_id]\n",
        "\n",
        "    def apply_coupon(self, code):\n",
        "        coupons = {\n",
        "            \"DISCOUNT10\": 0.10,\n",
        "            \"DISCOUNT20\": 0.20,\n",
        "            \"DISCOUNT50\": 0.50\n",
        "        }\n",
        "        self.discount = coupons.get(code.upper(), 0.0)\n",
        "\n",
        "    def get_total(self):\n",
        "        total = sum(item.get_total_price() for item in self.items)\n",
        "        total -= total * self.discount\n",
        "        return total\n",
        "\n",
        "    #     def test_apply_discount(self):\n",
        "#       self.cart.add_product(self.p1)\n",
        "#       self.cart.apply_coupon(\"Discount10\")\n",
        "#       self.assertAlmostEqual(self.cart.get_total(),45000.0)\n",
        "\n",
        "#     def test_empty_cart_total(self):\n",
        "#       self.assertEqual(self.cart.get_total(),0)\n",
        "\n",
        "# if __name__ == \"__main__\":\n",
        "#     unittest.main(argv=[''], exit=False)\n",
        "\n",
        "class TestShoppingCart(unittest.TestCase):\n",
        "    def setUp(self):\n",
        "        self.cart = ShoppingCart()\n",
        "        self.p1 = Product(1, \"Laptop\", 50000)\n",
        "        self.p2 = Product(2, \"Phone\", 20000)\n",
        "\n",
        "    def test_add_product(self):\n",
        "        self.cart.add_product(self.p1, 1)\n",
        "        self.assertEqual(len(self.cart.items), 1)\n",
        "        self.assertEqual(self.cart.items[0].product.name, \"Laptop\")\n",
        "\n",
        "    def test_remove_product(self):\n",
        "        self.cart.add_product(self.p1, 1)\n",
        "        self.cart.add_product(self.p2, 1)\n",
        "        self.cart.remove_product(1)\n",
        "        self.assertEqual(len(self.cart.items), 1)\n",
        "        self.assertEqual(self.cart.items[0].product.name, \"Phone\")\n",
        "\n",
        "    def test_apply_discount(self):\n",
        "        self.cart.add_product(self.p1, 1)\n",
        "        self.cart.apply_coupon(\"Discount10\")\n",
        "        self.assertAlmostEqual(self.cart.get_total(), 45000.0)\n",
        "\n",
        "    def test_empty_cart_total(self):\n",
        "        self.assertEqual(self.cart.get_total(), 0.0)\n",
        "\n",
        "\n",
        "# Run the tests\n",
        "if __name__ == \"__main__\":\n",
        "    unittest.main(argv=[''], exit=False)\n"
      ]
    },
    {
      "cell_type": "code",
      "source": [
        "#Buggy version - International Errors Included\n",
        "\n",
        "class Product:\n",
        "    def __init__(self, product_id, name, price):\n",
        "        self.product_id = product_id\n",
        "        self.name = name\n",
        "        self.price = price\n",
        "\n",
        "class CartItem:\n",
        "    def __init__(self, product, quantity=1):\n",
        "        self.product = product\n",
        "        self.quantity = quantity\n",
        "\n",
        "    def get_total_price(self):\n",
        "        return self.product.price * self.quantity\n",
        "\n",
        "class ShoppingCart:\n",
        "    def __init__(self):\n",
        "        self.items = []\n",
        "        self.discount = 0.0\n",
        "\n",
        "    def add_product(self, product, quantity=1):\n",
        "        for item in self.items:\n",
        "            if item.product.product_id == product.product_id:\n",
        "                item.quantity += quantity\n",
        "                return\n",
        "        self.items.append(CartItem(product, quantity))\n",
        "\n",
        "    # Bug 1 : Wrong filter Logic (keeps instead of removes)\n",
        "    def remove_product(self, product_id):\n",
        "        self.items = [item for item in self.items if item.product.product_id != product_id]\n",
        "\n",
        "    # Bug 2 : Invalid discount application\n",
        "    def apply_coupon(self, code):\n",
        "        coupons = {\n",
        "            \"DISCOUNT10\": 0.10,\n",
        "            \"DISCOUNT20\": 0.20,\n",
        "            \"DISCOUNT50\": 0.50\n",
        "        }\n",
        "        self.discount = coupons.get(code.upper(), 0.0)\n",
        "\n",
        "    # Bug 3 : Wrong total calculation\n",
        "    def get_total(self):\n",
        "        total = sum(item.get_total_price() for item in self.items)\n",
        "        total -= total * self.discount\n",
        "        return total\n",
        "\n",
        "#Units will fail\n",
        "class TestShoppingCart(unittest.TestCase):\n",
        "    def setUp(self):\n",
        "        self.cart = ShoppingCart()\n",
        "        self.p1 = Product(1, \"Laptop\", 50000)\n",
        "        self.p2 = Product(2, \"Phone\", 20000)\n",
        "\n",
        "    def test_add_product(self):\n",
        "        self.cart.add_product(self.p1, 1)\n",
        "        self.assertEqual(len(self.cart.items), 1)\n",
        "        self.assertEqual(self.cart.items[0].product.name, \"Laptop\")\n",
        "\n",
        "    def test_remove_product(self):\n",
        "        self.cart.add_product(self.p1, 1)\n",
        "        self.cart.add_product(self.p2, 1)\n",
        "        self.cart.remove_product(1)\n",
        "        self.assertEqual(len(self.cart.items), 1)\n",
        "        self.assertEqual(self.cart.items[0].product.name, \"Phone\")# Bug : Will fail\n",
        "\n",
        "    def test_apply_discount(self):\n",
        "        self.cart.add_product(self.p1, 1)\n",
        "        self.cart.apply_coupon(\"Discount10\")\n",
        "        self.assertAlmostEqual(self.cart.get_total(), 45000.0)\n",
        "\n",
        "if __name__ == \"__main__\":\n",
        "    unittest.main(argv=[''], exit=False)"
      ],
      "metadata": {
        "colab": {
          "base_uri": "https://localhost:8080/"
        },
        "id": "YJPoQuEe9J_p",
        "outputId": "4ab8be7e-4236-462b-dde2-d8c703db472c"
      },
      "execution_count": 24,
      "outputs": [
        {
          "output_type": "stream",
          "name": "stderr",
          "text": [
            "...\n",
            "----------------------------------------------------------------------\n",
            "Ran 3 tests in 0.005s\n",
            "\n",
            "OK\n"
          ]
        }
      ]
    },
    {
      "cell_type": "code",
      "source": [],
      "metadata": {
        "id": "WFjht6iP-I0V"
      },
      "execution_count": null,
      "outputs": []
    }
  ]
}